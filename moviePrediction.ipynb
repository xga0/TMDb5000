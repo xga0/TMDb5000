{
 "cells": [
  {
   "cell_type": "code",
   "execution_count": 1,
   "metadata": {},
   "outputs": [],
   "source": [
    "import pandas as pd\n",
    "import json\n",
    "import numpy as np\n",
    "from sklearn.feature_extraction.text import CountVectorizer\n",
    "from sklearn.metrics.pairwise import cosine_similarity\n",
    "\n",
    "df_m = pd.read_csv(\"/Users/seangao/Desktop/2019 Spring/MGMT 782 Business Research Methods II/Project/tmdb_5000_movies.csv\")\n",
    "\n",
    "# PART 1: Movie Recommendation\n",
    "\n",
    "# JSON objects are surrounded by curly braces {}. \n",
    "# JSON objects are written in key/value pairs.\n",
    "\n",
    "# Convert json to string for column 'genres' and 'keywords'\n",
    "df_m['genres'] = df_m['genres'].apply(json.loads)\n",
    "for index,i in zip(df_m.index,df_m['genres']):\n",
    "    list1=[]\n",
    "    for j in range(len(i)):\n",
    "        list1.append((i[j]['name']))\n",
    "    df_m.loc[index,'genres']=str(list1)\n",
    "\n",
    "df_m['keywords'] = df_m['keywords'].apply(json.loads)\n",
    "for index,i in zip(df_m.index,df_m['keywords']):\n",
    "    list1=[]\n",
    "    for j in range(len(i)):\n",
    "        list1.append((i[j]['name']))\n",
    "    df_m.loc[index,'keywords']=str(list1)   \n",
    "\n",
    "# Remove unwanted part in the column 'genres' and 'keywords'\n",
    "df_m['genres'] = df_m['genres'].str.strip('[]').str.replace(\"'\",'').str.replace('u','').str.replace(' ','')\n",
    "df_m['keywords'] = df_m['keywords'].str.strip('[]').str.replace(\"u'\",'').str.replace(\"'\",'').str.replace(' ','')\n",
    "\n",
    "# Do the same for 'production_companies', 'production_countries', and 'spoken_languages'\n",
    "df_m['production_companies'] = df_m['production_companies'].apply(json.loads)\n",
    "for index,i in zip(df_m.index,df_m['production_companies']):\n",
    "    list1=[]\n",
    "    for j in range(len(i)):\n",
    "        list1.append((i[j]['name']))\n",
    "    df_m.loc[index,'production_companies']=str(list1)\n",
    "\n",
    "df_m['production_companies'] = df_m['production_companies'].str.strip('[]').str.replace(\"u'\",'').str.replace(\"'\",'').str.replace(' ','')\n",
    "    \n",
    "df_m['production_countries'] = df_m['production_countries'].apply(json.loads)\n",
    "for index,i in zip(df_m.index,df_m['production_countries']):\n",
    "    list1=[]\n",
    "    for j in range(len(i)):\n",
    "        list1.append((i[j]['name']))\n",
    "    df_m.loc[index,'production_countries']=str(list1)\n",
    "\n",
    "df_m['production_countries'] = df_m['production_countries'].str.strip('[]').str.replace(\"u'\",'').str.replace(\"'\",'').str.replace(' ','') \n",
    "    \n",
    "df_m['spoken_languages'] = df_m['spoken_languages'].apply(json.loads)\n",
    "for index,i in zip(df_m.index,df_m['spoken_languages']):\n",
    "    list1=[]\n",
    "    for j in range(len(i)):\n",
    "        list1.append((i[j]['name']))\n",
    "    df_m.loc[index,'spoken_languages']=str(list1)\n",
    "\n",
    "df_m['spoken_languages'] = df_m['spoken_languages'].str.strip('[]').str.replace(\"u'\",'').str.replace(\"'\",'').str.replace(' ','')"
   ]
  },
  {
   "cell_type": "code",
   "execution_count": 3,
   "metadata": {},
   "outputs": [],
   "source": [
    "# Do the same for column 'cast' in dataset df_c\n",
    "df_c = pd.read_csv(\"/Users/seangao/Desktop/2019 Spring/MGMT 782 Business Research Methods II/Project/tmdb_5000_credits.csv\")\n",
    "\n",
    "df_c['cast'] = df_c['cast'].apply(json.loads)\n",
    "for index,i in zip(df_c.index,df_c['cast']):\n",
    "    list1=[]\n",
    "    for j in range(len(i)):\n",
    "        list1.append((i[j]['name']))\n",
    "    df_c.loc[index,'cast']=str(list1)\n",
    "\n",
    "df_c['cast'] = df_c['cast'].str.strip('[]').str.replace(\"u'\",'').str.replace('u\"','').str.replace('\"','').str.replace(\"'\",'').str.replace(' ','')\n",
    "\n",
    "# Extract key crew members from column 'crew'\n",
    "df_c['crew'] = df_c['crew'].apply(json.loads)\n",
    "def director(x):\n",
    "    for i in x:\n",
    "        if i['job'] == 'Director':\n",
    "            return i['name']\n",
    "df_c['director'] = df_c['crew'].apply(director)\n",
    "\n",
    "df_c['director'] = df_c['director'].str.replace(' ','')\n",
    "\n",
    "def composer(x):\n",
    "    for i in x:\n",
    "        if i['job'] == 'Original Music Composer':\n",
    "            return i['name']\n",
    "df_c['original_music_composer'] = df_c['crew'].apply(composer)\n",
    "\n",
    "df_c['original_music_composer'] = df_c['original_music_composer'].str.replace(' ','')\n",
    "\n",
    "def screenplay(x):\n",
    "    for i in x:\n",
    "        if i['job'] == 'Screenplay':\n",
    "            return i['name']\n",
    "df_c['screenplay'] = df_c['crew'].apply(screenplay)\n",
    "\n",
    "df_c['screenplay'] = df_c['screenplay'].str.replace(' ','')\n",
    "\n",
    "def editor(x):\n",
    "    for i in x:\n",
    "        if i['job'] == 'Editor':\n",
    "            return i['name']\n",
    "df_c['editor'] = df_c['crew'].apply(editor)\n",
    "\n",
    "df_c['editor'] = df_c['editor'].str.replace(' ','')\n",
    "\n",
    "df_c.rename(columns={'movie_id':'id'},inplace=True)\n",
    "\n",
    "df = pd.merge(df_m[['id','budget','genres','keywords',\n",
    "                    'original_language','popularity','production_companies',\n",
    "                    'production_countries','revenue','runtime','spoken_languages',\n",
    "                    'title','vote_average','vote_count']],\n",
    "              df_c[['id','cast','director','original_music_composer','screenplay',\n",
    "                    'editor']],how='left')"
   ]
  },
  {
   "cell_type": "code",
   "execution_count": 4,
   "metadata": {},
   "outputs": [],
   "source": [
    "df.fillna(value = 'NaN', inplace = True)"
   ]
  },
  {
   "cell_type": "code",
   "execution_count": 5,
   "metadata": {},
   "outputs": [],
   "source": [
    "df['keycrews'] = df[\"director\"] + ',' + df[\"original_music_composer\"] + ',' + df[\"screenplay\"] + ',' + df[\"editor\"]\n",
    "\n",
    "df['allfeatures'] = df['keywords'] + ',' + df['genres'] + ',' +  df['production_companies']  + ',' + df['production_countries']  + ',' + df['spoken_languages']  + ',' + df['cast']  + ',' + df['keycrews']\n",
    "\n",
    "count = CountVectorizer(stop_words = 'english')\n",
    "count_matrix = count.fit_transform(df['allfeatures'])\n",
    "cosine_sim = cosine_similarity(count_matrix, count_matrix)\n",
    "\n",
    "indices = pd.Series(df.index, index = df['title']).drop_duplicates()\n",
    "\n",
    "def get_recommendations(title, cosine_sim = cosine_sim):\n",
    "    idx = indices[title]\n",
    "    sim_scores = list(enumerate(cosine_sim[idx]))\n",
    "    sim_scores = sorted(sim_scores, key = lambda x: x[1], reverse=True)\n",
    "    sim_scores = sim_scores[1:11]\n",
    "    movie_indices = [i[0] for i in sim_scores]\n",
    "    return df['title'].iloc[movie_indices]"
   ]
  },
  {
   "cell_type": "code",
   "execution_count": 9,
   "metadata": {
    "slideshow": {
     "slide_type": "slide"
    }
   },
   "outputs": [
    {
     "data": {
      "text/plain": [
       "79                              Iron Man 2\n",
       "31                              Iron Man 3\n",
       "129                                   Thor\n",
       "7                  Avengers: Age of Ultron\n",
       "182                                Ant-Man\n",
       "169     Captain America: The First Avenger\n",
       "16                            The Avengers\n",
       "511                                  X-Men\n",
       "85     Captain America: The Winter Soldier\n",
       "126                   Thor: The Dark World\n",
       "Name: title, dtype: object"
      ]
     },
     "execution_count": 9,
     "metadata": {},
     "output_type": "execute_result"
    }
   ],
   "source": [
    "get_recommendations('Iron Man', cosine_sim)"
   ]
  }
 ],
 "metadata": {
  "kernelspec": {
   "display_name": "Python 3",
   "language": "python",
   "name": "python3"
  },
  "language_info": {
   "codemirror_mode": {
    "name": "ipython",
    "version": 3
   },
   "file_extension": ".py",
   "mimetype": "text/x-python",
   "name": "python",
   "nbconvert_exporter": "python",
   "pygments_lexer": "ipython3",
   "version": "3.7.4"
  }
 },
 "nbformat": 4,
 "nbformat_minor": 2
}
